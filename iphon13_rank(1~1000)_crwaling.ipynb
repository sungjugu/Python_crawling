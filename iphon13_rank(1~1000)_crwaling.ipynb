{
 "cells": [
  {
   "cell_type": "code",
   "execution_count": null,
   "id": "39524e34",
   "metadata": {},
   "outputs": [],
   "source": [
    "import requests\n",
    "import openpyxl\n",
    "\n",
    "client_id = 'Rgfzr7RrxsnZHURwobRS'\n",
    "client_secret = 'Qr8DT56ZRU'\n",
    "\n",
    "start, num = 1, 0\n",
    "\n",
    "excel_file = openpyxl.Workbook()\n",
    "excel_sheet = excel_file.active\n",
    "excel_sheet.column_dimensions['B'].width = 100\n",
    "excel_sheet.column_dimensions['C'].width = 100\n",
    "excel_sheet.append(['랭킹', '제목', '링크'])\n",
    "\n",
    "for index in range(10):\n",
    "    start_number = start + (index * 100)\n",
    "    naver_open_api = 'https://openapi.naver.com/v1/search/shop.json?query=아이폰13&display=100&start=' + str(start_number)\n",
    "    header_params = {\"X-Naver-Client-Id\":client_id, \"X-Naver-Client-Secret\":client_secret}\n",
    "    res = requests.get(naver_open_api, headers=header_params)\n",
    "\n",
    "    if res.status_code == 200:\n",
    "        data = res.json()\n",
    "        \n",
    "        for item in data['items']:\n",
    "            num += 1\n",
    "            excel_sheet.append([num, item['title'], item['link']])\n",
    "    else :\n",
    "        print(\"error\",res.status_code)\n",
    "        \n",
    "excel_file.save('iphon13.xlsx')\n",
    "excel_file.close()"
   ]
  }
 ],
 "metadata": {
  "kernelspec": {
   "display_name": "Python 3 (ipykernel)",
   "language": "python",
   "name": "python3"
  },
  "language_info": {
   "codemirror_mode": {
    "name": "ipython",
    "version": 3
   },
   "file_extension": ".py",
   "mimetype": "text/x-python",
   "name": "python",
   "nbconvert_exporter": "python",
   "pygments_lexer": "ipython3",
   "version": "3.9.7"
  }
 },
 "nbformat": 4,
 "nbformat_minor": 5
}
